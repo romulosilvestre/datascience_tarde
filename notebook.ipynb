{
 "cells": [
  {
   "cell_type": "code",
   "execution_count": 1,
   "metadata": {},
   "outputs": [
    {
     "name": "stdout",
     "output_type": "stream",
     "text": [
      "Collecting sqlalchemy\n",
      "  Downloading SQLAlchemy-2.0.31-cp312-cp312-win_amd64.whl.metadata (9.9 kB)\n",
      "Collecting pymysql\n",
      "  Downloading PyMySQL-1.1.1-py3-none-any.whl.metadata (4.4 kB)\n",
      "Collecting pandas\n",
      "  Using cached pandas-2.2.2-cp312-cp312-win_amd64.whl.metadata (19 kB)\n",
      "Collecting typing-extensions>=4.6.0 (from sqlalchemy)\n",
      "  Using cached typing_extensions-4.12.2-py3-none-any.whl.metadata (3.0 kB)\n",
      "Collecting greenlet!=0.4.17 (from sqlalchemy)\n",
      "  Downloading greenlet-3.0.3-cp312-cp312-win_amd64.whl.metadata (3.9 kB)\n",
      "Collecting numpy>=1.26.0 (from pandas)\n",
      "  Using cached numpy-2.0.1-cp312-cp312-win_amd64.whl.metadata (60 kB)\n",
      "Requirement already satisfied: python-dateutil>=2.8.2 in c:\\users\\ead\\desktop\\projetofinal_tarde\\.venv\\lib\\site-packages (from pandas) (2.9.0.post0)\n",
      "Collecting pytz>=2020.1 (from pandas)\n",
      "  Using cached pytz-2024.1-py2.py3-none-any.whl.metadata (22 kB)\n",
      "Collecting tzdata>=2022.7 (from pandas)\n",
      "  Using cached tzdata-2024.1-py2.py3-none-any.whl.metadata (1.4 kB)\n",
      "Requirement already satisfied: six>=1.5 in c:\\users\\ead\\desktop\\projetofinal_tarde\\.venv\\lib\\site-packages (from python-dateutil>=2.8.2->pandas) (1.16.0)\n",
      "Downloading SQLAlchemy-2.0.31-cp312-cp312-win_amd64.whl (2.1 MB)\n",
      "   ---------------------------------------- 0.0/2.1 MB ? eta -:--:--\n",
      "   ------------------------------ --------- 1.6/2.1 MB 10.5 MB/s eta 0:00:01\n",
      "   ---------------------------------------- 2.1/2.1 MB 9.0 MB/s eta 0:00:00\n",
      "Downloading PyMySQL-1.1.1-py3-none-any.whl (44 kB)\n",
      "Using cached pandas-2.2.2-cp312-cp312-win_amd64.whl (11.5 MB)\n",
      "Downloading greenlet-3.0.3-cp312-cp312-win_amd64.whl (293 kB)\n",
      "Using cached numpy-2.0.1-cp312-cp312-win_amd64.whl (16.3 MB)\n",
      "Using cached pytz-2024.1-py2.py3-none-any.whl (505 kB)\n",
      "Using cached typing_extensions-4.12.2-py3-none-any.whl (37 kB)\n",
      "Using cached tzdata-2024.1-py2.py3-none-any.whl (345 kB)\n",
      "Installing collected packages: pytz, tzdata, typing-extensions, pymysql, numpy, greenlet, sqlalchemy, pandas\n",
      "Successfully installed greenlet-3.0.3 numpy-2.0.1 pandas-2.2.2 pymysql-1.1.1 pytz-2024.1 sqlalchemy-2.0.31 typing-extensions-4.12.2 tzdata-2024.1\n"
     ]
    }
   ],
   "source": [
    "! pip install sqlalchemy pymysql pandas\n"
   ]
  },
  {
   "cell_type": "code",
   "execution_count": 2,
   "metadata": {},
   "outputs": [],
   "source": [
    "# Notebook Jupyter: Conectando ao MySQL com SQLAlchemy e lendo um SQL\n",
    "\n",
    "## 1. Importando Bibliotecas\n",
    "\n",
    "\n",
    "import pandas as pd\n",
    "from sqlalchemy import create_engine\n"
   ]
  },
  {
   "cell_type": "code",
   "execution_count": 7,
   "metadata": {},
   "outputs": [
    {
     "name": "stdout",
     "output_type": "stream",
     "text": [
      "Collecting mysql\n",
      "  Downloading mysql-0.0.3-py3-none-any.whl.metadata (746 bytes)\n",
      "Collecting mysqlclient (from mysql)\n",
      "  Downloading mysqlclient-2.2.4-cp312-cp312-win_amd64.whl.metadata (4.6 kB)\n",
      "Downloading mysql-0.0.3-py3-none-any.whl (1.2 kB)\n",
      "Downloading mysqlclient-2.2.4-cp312-cp312-win_amd64.whl (203 kB)\n",
      "Installing collected packages: mysqlclient, mysql\n",
      "Successfully installed mysql-0.0.3 mysqlclient-2.2.4\n"
     ]
    }
   ],
   "source": [
    "! pip install mysql"
   ]
  },
  {
   "cell_type": "code",
   "execution_count": 40,
   "metadata": {},
   "outputs": [],
   "source": [
    "import pymysql"
   ]
  },
  {
   "cell_type": "code",
   "execution_count": 42,
   "metadata": {},
   "outputs": [
    {
     "name": "stdout",
     "output_type": "stream",
     "text": [
      "Conexão bem-sucedida!\n",
      "Consulta realizada e DataFrame criado!\n"
     ]
    },
    {
     "name": "stderr",
     "output_type": "stream",
     "text": [
      "C:\\Users\\ead\\AppData\\Local\\Temp\\ipykernel_3560\\3520413794.py:18: UserWarning: pandas only supports SQLAlchemy connectable (engine/connection) or database string URI or sqlite3 DBAPI2 connection. Other DBAPI2 objects are not tested. Please consider using SQLAlchemy.\n",
      "  df_alunos = pd.read_sql(query, connection)\n"
     ]
    }
   ],
   "source": [
    "# Definir a variável global\n",
    "df_alunos = None\n",
    "\n",
    "def test_connection():\n",
    "    global df_alunos\n",
    "    try:\n",
    "        connection = pymysql.connect(\n",
    "            host='localhost',\n",
    "            user='root',\n",
    "            password='senai@123',\n",
    "            database='schooltracker',\n",
    "            port=3306\n",
    "        )\n",
    "        print(\"Conexão bem-sucedida!\")\n",
    "\n",
    "        # Realizar a consulta\n",
    "        query = \"SELECT * FROM aluno\"\n",
    "        df_alunos = pd.read_sql(query, connection)\n",
    "\n",
    "        # Fechar a conexão\n",
    "        connection.close()\n",
    "        \n",
    "        print(\"Consulta realizada e DataFrame criado!\")\n",
    "\n",
    "    except Exception as e:\n",
    "        print(f\"Erro ao conectar ou consultar: {e}\")\n",
    "\n",
    "# Chamar a função para estabelecer a conexão e realizar a consulta\n",
    "test_connection()\n"
   ]
  },
  {
   "cell_type": "code",
   "execution_count": 43,
   "metadata": {},
   "outputs": [
    {
     "name": "stdout",
     "output_type": "stream",
     "text": [
      "     id        ra\n",
      "0    57  00034548\n",
      "1    58  00034549\n",
      "2    59  00034550\n",
      "3    60  00034551\n",
      "4    61  00034552\n",
      "5    62  00034553\n",
      "6    63  00034554\n",
      "7    64  00034555\n",
      "8    65  00034556\n",
      "9    66  00034557\n",
      "10   67  00034558\n",
      "11   68  00034559\n",
      "12   69  00034560\n",
      "13   70  00034561\n",
      "14   71  00034562\n",
      "15   72  00034563\n",
      "16   73  00034564\n",
      "17   74  00034565\n",
      "18   75  00034566\n",
      "19   76  00034567\n",
      "20   77  00034568\n",
      "21   78  00034569\n",
      "22   79  00034570\n",
      "23   80  00034571\n",
      "24   81  00034572\n",
      "25   82  00034573\n",
      "26   83  00034574\n",
      "27   84  00034575\n",
      "28   85  00034576\n",
      "29   86  00034577\n",
      "30   87  00034578\n",
      "31   88  00034579\n",
      "32   89  00034580\n",
      "33   90  00034581\n",
      "34   91  00034582\n",
      "35   92  00034583\n",
      "36   93  00034584\n",
      "37   94  00034585\n",
      "38   95  00034586\n",
      "39   96  00034587\n",
      "40   97  00034588\n",
      "41   98  00034589\n",
      "42   99  00034590\n",
      "43  100  00034591\n",
      "44  101  00034592\n",
      "45  102  00034593\n",
      "46  103  00034594\n",
      "47  104  00034595\n",
      "48  105  00034596\n",
      "49  106  00034597\n",
      "50  107  00034598\n",
      "51  108  00034599\n",
      "52  109  11134548\n"
     ]
    }
   ],
   "source": [
    "# Exibir o DataFrame\n",
    "if df_alunos is not None:\n",
    "    print(df_alunos)\n",
    "else:\n",
    "    print(\"DataFrame não foi carregado.\")\n"
   ]
  },
  {
   "cell_type": "code",
   "execution_count": 44,
   "metadata": {},
   "outputs": [
    {
     "data": {
      "text/plain": [
       "0     00034548\n",
       "1     00034549\n",
       "2     00034550\n",
       "3     00034551\n",
       "4     00034552\n",
       "5     00034553\n",
       "6     00034554\n",
       "7     00034555\n",
       "8     00034556\n",
       "9     00034557\n",
       "10    00034558\n",
       "11    00034559\n",
       "12    00034560\n",
       "13    00034561\n",
       "14    00034562\n",
       "15    00034563\n",
       "16    00034564\n",
       "17    00034565\n",
       "18    00034566\n",
       "19    00034567\n",
       "20    00034568\n",
       "21    00034569\n",
       "22    00034570\n",
       "23    00034571\n",
       "24    00034572\n",
       "25    00034573\n",
       "26    00034574\n",
       "27    00034575\n",
       "28    00034576\n",
       "29    00034577\n",
       "30    00034578\n",
       "31    00034579\n",
       "32    00034580\n",
       "33    00034581\n",
       "34    00034582\n",
       "35    00034583\n",
       "36    00034584\n",
       "37    00034585\n",
       "38    00034586\n",
       "39    00034587\n",
       "40    00034588\n",
       "41    00034589\n",
       "42    00034590\n",
       "43    00034591\n",
       "44    00034592\n",
       "45    00034593\n",
       "46    00034594\n",
       "47    00034595\n",
       "48    00034596\n",
       "49    00034597\n",
       "50    00034598\n",
       "51    00034599\n",
       "52    11134548\n",
       "Name: ra, dtype: object"
      ]
     },
     "execution_count": 44,
     "metadata": {},
     "output_type": "execute_result"
    }
   ],
   "source": [
    "df_alunos.ra"
   ]
  },
  {
   "cell_type": "code",
   "execution_count": 45,
   "metadata": {},
   "outputs": [
    {
     "data": {
      "text/plain": [
       "0      57\n",
       "1      58\n",
       "2      59\n",
       "3      60\n",
       "4      61\n",
       "5      62\n",
       "6      63\n",
       "7      64\n",
       "8      65\n",
       "9      66\n",
       "10     67\n",
       "11     68\n",
       "12     69\n",
       "13     70\n",
       "14     71\n",
       "15     72\n",
       "16     73\n",
       "17     74\n",
       "18     75\n",
       "19     76\n",
       "20     77\n",
       "21     78\n",
       "22     79\n",
       "23     80\n",
       "24     81\n",
       "25     82\n",
       "26     83\n",
       "27     84\n",
       "28     85\n",
       "29     86\n",
       "30     87\n",
       "31     88\n",
       "32     89\n",
       "33     90\n",
       "34     91\n",
       "35     92\n",
       "36     93\n",
       "37     94\n",
       "38     95\n",
       "39     96\n",
       "40     97\n",
       "41     98\n",
       "42     99\n",
       "43    100\n",
       "44    101\n",
       "45    102\n",
       "46    103\n",
       "47    104\n",
       "48    105\n",
       "49    106\n",
       "50    107\n",
       "51    108\n",
       "52    109\n",
       "Name: id, dtype: int64"
      ]
     },
     "execution_count": 45,
     "metadata": {},
     "output_type": "execute_result"
    }
   ],
   "source": [
    "df_alunos.id"
   ]
  },
  {
   "cell_type": "code",
   "execution_count": 46,
   "metadata": {},
   "outputs": [
    {
     "data": {
      "text/plain": [
       "(53, 2)"
      ]
     },
     "execution_count": 46,
     "metadata": {},
     "output_type": "execute_result"
    }
   ],
   "source": [
    "df_alunos.shape"
   ]
  },
  {
   "cell_type": "code",
   "execution_count": null,
   "metadata": {},
   "outputs": [],
   "source": []
  }
 ],
 "metadata": {
  "kernelspec": {
   "display_name": ".venv",
   "language": "python",
   "name": "python3"
  },
  "language_info": {
   "codemirror_mode": {
    "name": "ipython",
    "version": 3
   },
   "file_extension": ".py",
   "mimetype": "text/x-python",
   "name": "python",
   "nbconvert_exporter": "python",
   "pygments_lexer": "ipython3",
   "version": "3.12.3"
  }
 },
 "nbformat": 4,
 "nbformat_minor": 2
}
